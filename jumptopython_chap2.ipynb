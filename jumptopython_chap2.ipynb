{
  "nbformat": 4,
  "nbformat_minor": 0,
  "metadata": {
    "colab": {
      "provenance": [],
      "authorship_tag": "ABX9TyNllQLpOKU3aZANaLZ8dBoO",
      "include_colab_link": true
    },
    "kernelspec": {
      "name": "python3",
      "display_name": "Python 3"
    },
    "language_info": {
      "name": "python"
    }
  },
  "cells": [
    {
      "cell_type": "markdown",
      "metadata": {
        "id": "view-in-github",
        "colab_type": "text"
      },
      "source": [
        "<a href=\"https://colab.research.google.com/github/hazelvv/Jump-to-Python/blob/main/jumptopython_chap2.ipynb\" target=\"_parent\"><img src=\"https://colab.research.google.com/assets/colab-badge.svg\" alt=\"Open In Colab\"/></a>"
      ]
    },
    {
      "cell_type": "code",
      "execution_count": null,
      "metadata": {
        "colab": {
          "base_uri": "https://localhost:8080/"
        },
        "id": "7WOZMvZj6M3J",
        "outputId": "0e9207e7-2754-4b63-8b48-de3a602cc044"
      },
      "outputs": [
        {
          "output_type": "stream",
          "name": "stdout",
          "text": [
            "70.0\n"
          ]
        }
      ],
      "source": [
        "#1\n",
        "a=80\n",
        "b=75\n",
        "c=55\n",
        "print((a+b+c)/3)"
      ]
    },
    {
      "cell_type": "code",
      "source": [
        "#2\n",
        "num = 13\n",
        "if(num %2 ==1) :print('홀수')\n",
        "if(num %2 ==0) :print('짝수')\n",
        "\n"
      ],
      "metadata": {
        "colab": {
          "base_uri": "https://localhost:8080/"
        },
        "id": "X0SqoiQS6NZ2",
        "outputId": "8845a7a6-9056-4ccc-a42d-175f1eda1d93"
      },
      "execution_count": null,
      "outputs": [
        {
          "output_type": "stream",
          "name": "stdout",
          "text": [
            "홀수\n"
          ]
        }
      ]
    },
    {
      "cell_type": "code",
      "source": [
        "#3 주민등록번호 나누기\n",
        "\n",
        "pin = \"881120-1068234\"\n",
        "\n",
        "pin.split('-')\n",
        "\n",
        "yyyymmdd=pin[0:6]\n",
        "\n",
        "if pin[0] == '0':\n",
        "\n",
        "    b=20\n",
        "\n",
        "else:\n",
        "\n",
        "    b=19\n",
        "\n",
        "c=int(b)+int(pin[0:6])\n",
        "\n",
        "print('yyyymmdd =',c)\n",
        "\n",
        "num=pin[7:14]\n",
        "\n",
        "print('num = ',num)\n",
        "\n",
        "\n",
        "\n",
        "#연월일 부분출력\n",
        "\n",
        "print('print(',pin[0:2],'년', pin[2:4],'월', pin[4:6],'일)')\n",
        "\n",
        "\n",
        "\n",
        "print('print(', num,')')\n"
      ],
      "metadata": {
        "colab": {
          "base_uri": "https://localhost:8080/"
        },
        "id": "apnT0vdG6PtY",
        "outputId": "ee2e62fa-1a6a-4208-ea25-1d01c400cce9"
      },
      "execution_count": null,
      "outputs": [
        {
          "output_type": "stream",
          "name": "stdout",
          "text": [
            "yyyymmdd = 881139\n",
            "num =  1068234\n",
            "print( 88 년 11 월 20 일)\n",
            "print( 1068234 )\n"
          ]
        }
      ]
    },
    {
      "cell_type": "code",
      "source": [
        "#4 주민등록번호 인덱싱\n",
        "pin = \"881120-1068234\"\n",
        "print(pin[7])"
      ],
      "metadata": {
        "colab": {
          "base_uri": "https://localhost:8080/"
        },
        "id": "YOz5Jd826QH_",
        "outputId": "eec64ccf-e335-45b0-d308-e095a46d72b2"
      },
      "execution_count": null,
      "outputs": [
        {
          "output_type": "stream",
          "name": "stdout",
          "text": [
            "1\n"
          ]
        }
      ]
    },
    {
      "cell_type": "code",
      "source": [
        "#5 문자열바꾸기\n",
        "a = \"a:b:c:d\"\n",
        "b = a.replace(\":\", \"#\")\n",
        "print(b)\n"
      ],
      "metadata": {
        "colab": {
          "base_uri": "https://localhost:8080/"
        },
        "id": "OB-6HdCg6TSh",
        "outputId": "ba383f85-a173-4aee-f547-b4b50136955b"
      },
      "execution_count": null,
      "outputs": [
        {
          "output_type": "stream",
          "name": "stdout",
          "text": [
            "a#b#c#d\n"
          ]
        }
      ]
    },
    {
      "cell_type": "code",
      "source": [
        "#6 리스트역순 정렬하기 [1,3,5,4,2]\n",
        "a = [1, 3, 5, 4, 2]\n",
        "a.sort()\n",
        "print(a)\n",
        "a.reverse()\n",
        "print(a)\n"
      ],
      "metadata": {
        "colab": {
          "base_uri": "https://localhost:8080/"
        },
        "id": "_k9v_aWp6fto",
        "outputId": "2a13e0a1-ccfc-410f-f5ff-614877166010"
      },
      "execution_count": null,
      "outputs": [
        {
          "output_type": "stream",
          "name": "stdout",
          "text": [
            "[1, 2, 3, 4, 5]\n",
            "[5, 4, 3, 2, 1]\n"
          ]
        }
      ]
    },
    {
      "cell_type": "code",
      "source": [
        "#7 리스트를 문자열로 만들기\n",
        "a = ['Life', 'is', 'too', 'short']\n",
        "result = \" \".join(a)\n",
        "print(result)"
      ],
      "metadata": {
        "colab": {
          "base_uri": "https://localhost:8080/"
        },
        "id": "uXGl6QBg77ic",
        "outputId": "7cbbd4e6-33b2-4a00-bd6b-b31beda7fe82"
      },
      "execution_count": null,
      "outputs": [
        {
          "output_type": "stream",
          "name": "stdout",
          "text": [
            "Life is too short\n"
          ]
        }
      ]
    },
    {
      "cell_type": "code",
      "source": [
        "#8 튜플 더하기\n",
        "a = (1, 2, 3)\n",
        "a = a + (4,)\n",
        "print(a)"
      ],
      "metadata": {
        "colab": {
          "base_uri": "https://localhost:8080/"
        },
        "id": "WQQgs8ns8KzK",
        "outputId": "dff2653c-c8f5-4e35-db07-50c364634f64"
      },
      "execution_count": null,
      "outputs": [
        {
          "output_type": "stream",
          "name": "stdout",
          "text": [
            "(1, 2, 3, 4)\n"
          ]
        }
      ]
    },
    {
      "cell_type": "code",
      "source": [
        "#9 딕셔너리의 키\n",
        "a= dict()\n",
        "a\n",
        "\n",
        "#다음 중 오류가 발생하는 경우를 고르고 이유를 설명해보자\n",
        "a['name']='python'\n",
        "a[('a',)]='python'\n",
        "a[[1]] ='python'\n",
        "a[250] = 'python'\n",
        "\n",
        "## 답:  a[[1]] ='python' // 딕셔너리의 키는 문자열 또는 튜플이어야 하기 때문에 리스트의 요소를 키로 사용할 수 없습니다."
      ],
      "metadata": {
        "id": "98a3lPkF85YO"
      },
      "execution_count": null,
      "outputs": []
    },
    {
      "cell_type": "code",
      "source": [
        "#10 딕셔너리 값 추출하기\n",
        "#딕셔너리 a에서 'B'에 해당하는 값을 추출해 보자.\n",
        "a = {'A': 90, 'B': 80, 'C': 70}\n",
        "result = a.pop('B')\n",
        "print(a)\n",
        "print(result)"
      ],
      "metadata": {
        "colab": {
          "base_uri": "https://localhost:8080/"
        },
        "id": "hFreAVwD9Fjh",
        "outputId": "1b5f26e3-38c0-482c-f4cc-885719202081"
      },
      "execution_count": null,
      "outputs": [
        {
          "output_type": "stream",
          "name": "stdout",
          "text": [
            "{'A': 90, 'C': 70}\n",
            "80\n"
          ]
        }
      ]
    },
    {
      "cell_type": "code",
      "source": [
        "#11 리스트에서 중복 제거하기\n",
        "a = [1, 1, 1, 2, 2, 3, 3, 3, 4, 4, 5]\n",
        "aSet = set(a)\n",
        "b = list(aSet)\n",
        "print(aSet)\n",
        "print(b)"
      ],
      "metadata": {
        "colab": {
          "base_uri": "https://localhost:8080/"
        },
        "id": "iULR1dGZ99Aj",
        "outputId": "682a478d-7bb5-4e0c-f32e-154769208022"
      },
      "execution_count": null,
      "outputs": [
        {
          "output_type": "stream",
          "name": "stdout",
          "text": [
            "{1, 2, 3, 4, 5}\n",
            "[1, 2, 3, 4, 5]\n"
          ]
        }
      ]
    },
    {
      "cell_type": "code",
      "source": [
        "#12 파이썬 변수\n",
        "#파이썬은 다음처럼 동일한 값에 여러 개의 변수를 선언할 수 있다. 다음과 같이 a,b변수를 선언한 후\n",
        "##a의 두번째 요솟값을 변경하려면 b값은 어떻게 될까? 그리고 이런 결과가 나타나는 이유를 설명해보자\n",
        "\n",
        "a = b = [1, 2, 3]\n",
        "a[1] = 4\n",
        "print(b)\n",
        "\n",
        "### 답:\n",
        "# 변수를 선언하면 해당 변수에 메모리 공간이 할당되고, 값을 할당하면 해당 메모리 공간에 값이 저장됩니다.\n",
        "# a = b = [1, 2, 3]과 같은 코드는 a와 b라는 두 개의 변수를 선언하고, 두 변수에 동일한 값인 [1, 2, 3]을 할당합니다.\n",
        "# 이 경우 a와 b는 같은 메모리 공간을 참조합니다.\n",
        "# a[1] = 4와 같은 코드는 a의 두 번째 요소 값을 4로 변경합니다. 이 경우 b의 두 번째 요소 값도 4로 변경됩니다.\n",
        "# 왜냐하면 a와 b는 같은 메모리 공간을 참조하기 때문입니다.\n"
      ],
      "metadata": {
        "colab": {
          "base_uri": "https://localhost:8080/"
        },
        "id": "SWkrpkJM-aGQ",
        "outputId": "976283ff-478e-4294-e3c0-4f0f01e3facb"
      },
      "execution_count": null,
      "outputs": [
        {
          "output_type": "stream",
          "name": "stdout",
          "text": [
            "[1, 4, 3]\n"
          ]
        }
      ]
    },
    {
      "cell_type": "code",
      "source": [],
      "metadata": {
        "id": "7KKqPRmcOC_t"
      },
      "execution_count": null,
      "outputs": []
    },
    {
      "cell_type": "code",
      "source": [],
      "metadata": {
        "id": "qFefw4s0_L4x"
      },
      "execution_count": null,
      "outputs": []
    }
  ]
}